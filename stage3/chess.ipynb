{
 "cells": [
  {
   "cell_type": "code",
   "execution_count": 1,
   "metadata": {},
   "outputs": [
    {
     "name": "stdout",
     "output_type": "stream",
     "text": [
      "pygame 2.1.3 (SDL 2.0.22, Python 3.10.2)\n",
      "Hello from the pygame community. https://www.pygame.org/contribute.html\n"
     ]
    },
    {
     "ename": "",
     "evalue": "",
     "output_type": "error",
     "traceback": [
      "\u001b[1;31mThe Kernel crashed while executing code in the the current cell or a previous cell. Please review the code in the cell(s) to identify a possible cause of the failure. Click <a href='https://aka.ms/vscodeJupyterKernelCrash'>here</a> for more info. View Jupyter <a href='command:jupyter.viewOutput'>log</a> for further details."
     ]
    }
   ],
   "source": [
    "import pygame\n",
    "\n",
    "# Set up the dimensions of the chess board\n",
    "WIDTH = 512\n",
    "HEIGHT = 512\n",
    "SQUARE_SIZE = WIDTH // 8\n",
    "\n",
    "# Initialize Pygame\n",
    "pygame.init()\n",
    "\n",
    "# Create the display surface\n",
    "screen = pygame.display.set_mode((WIDTH, HEIGHT))\n",
    "\n",
    "# Define the colors of the chess board\n",
    "WHITE = (255, 255, 255)\n",
    "BLACK = (0, 0, 0)\n",
    "\n",
    "# Define the images for the chess pieces\n",
    "w_king = pygame.image.load(\"w_king.png\")\n",
    "w_queen = pygame.image.load(\"w_queen.png\")\n",
    "w_rook = pygame.image.load(\"w_rook.png\")\n",
    "w_bishop = pygame.image.load(\"w_bishop.png\")\n",
    "w_knight = pygame.image.load(\"w_knight.png\")\n",
    "w_pawn = pygame.image.load(\"w_pawn.png\")\n",
    "b_king = pygame.image.load(\"b_king.png\")\n",
    "b_queen = pygame.image.load(\"b_queen.png\")\n",
    "b_rook = pygame.image.load(\"b_rook.png\")\n",
    "b_bishop = pygame.image.load(\"b_bishop.png\")\n",
    "b_knight = pygame.image.load(\"b_knight.png\")\n",
    "b_pawn = pygame.image.load(\"b_pawn.png\")\n",
    "\n",
    "# Create a dictionary that maps chess piece codes to images\n",
    "piece_images = {\n",
    "    \"K\": w_king,\n",
    "    \"Q\": w_queen,\n",
    "    \"R\": w_rook,\n",
    "    \"B\": w_bishop,\n",
    "    \"N\": w_knight,\n",
    "    \"P\": w_pawn,\n",
    "    \"k\": b_king,\n",
    "    \"q\": b_queen,\n",
    "    \"r\": b_rook,\n",
    "    \"b\": b_bishop,\n",
    "    \"n\": b_knight,\n",
    "    \"p\": b_pawn,\n",
    "}\n",
    "\n",
    "# Define the starting position of the chess pieces\n",
    "starting_position = [\n",
    "    [\"r\", \"n\", \"b\", \"q\", \"k\", \"b\", \"n\", \"r\"],\n",
    "    [\"p\", \"p\", \"p\", \"p\", \"p\", \"p\", \"p\", \"p\"],\n",
    "    [\" \", \" \", \" \", \" \", \" \", \" \", \" \", \" \"],\n",
    "    [\" \", \" \", \" \", \" \", \" \", \" \", \" \", \" \"],\n",
    "    [\" \", \" \", \" \", \" \", \" \", \" \", \" \", \" \"],\n",
    "    [\" \", \" \", \" \", \" \", \" \", \" \", \" \", \" \"],\n",
    "    [\"P\", \"P\", \"P\", \"P\", \"P\", \"P\", \"P\", \"P\"],\n",
    "    [\"R\", \"N\", \"B\", \"Q\", \"K\", \"B\", \"N\", \"R\"],\n",
    "]\n",
    "\n",
    "# Loop through each square on the chess board and draw it\n",
    "for row in range(8):\n",
    "    for col in range(8):\n",
    "        x = col * SQUARE_SIZE\n",
    "        y = row * SQUARE_SIZE\n",
    "        color = WHITE if (row + col) % 2 == 0 else BLACK\n",
    "        pygame.draw.rect(screen, color, pygame.Rect(x, y, SQUARE_SIZE, SQUARE_SIZE))\n",
    "        \n",
    "        # Draw the chess piece on the square if there is one\n",
    "        piece_code = starting_position[row][col]\n",
    "        if piece_code != \" \":\n",
    "            piece_image = piece_images[piece_code]\n",
    "            piece_rect = piece_image.get_rect()\n",
    "            piece_rect.center = (x + SQUARE_SIZE // 2, y + SQUARE_SIZE // 2)\n",
    "            screen.blit(piece_image, piece_rect)\n",
    "\n",
    "# Update the display\n",
    "pygame.display.update()\n",
    "\n",
    "# # Wait for the user to close the window\n",
    "# while True:\n",
    "#     for event in pygame.event.get():\n",
    "#         if event.type == pygame.QUIT:\n",
    "#             pygame.quit()\n",
    "#             exit()"
   ]
  }
 ],
 "metadata": {
  "interpreter": {
   "hash": "aee8b7b246df8f9039afb4144a1f6fd8d2ca17a180786b69acc140d282b71a49"
  },
  "kernelspec": {
   "display_name": "Python 3.10.2 64-bit",
   "language": "python",
   "name": "python3"
  },
  "language_info": {
   "codemirror_mode": {
    "name": "ipython",
    "version": 3
   },
   "file_extension": ".py",
   "mimetype": "text/x-python",
   "name": "python",
   "nbconvert_exporter": "python",
   "pygments_lexer": "ipython3",
   "version": "3.10.2"
  },
  "orig_nbformat": 4
 },
 "nbformat": 4,
 "nbformat_minor": 2
}
