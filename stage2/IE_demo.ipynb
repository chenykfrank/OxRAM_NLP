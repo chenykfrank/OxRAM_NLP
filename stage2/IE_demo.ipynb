{
 "cells": [
  {
   "cell_type": "code",
   "execution_count": 1,
   "metadata": {},
   "outputs": [
    {
     "name": "stderr",
     "output_type": "stream",
     "text": [
      "2023-02-14 16:46:31.729060: I tensorflow/core/platform/cpu_feature_guard.cc:193] This TensorFlow binary is optimized with oneAPI Deep Neural Network Library (oneDNN) to use the following CPU instructions in performance-critical operations:  AVX2 FMA\n",
      "To enable them in other operations, rebuild TensorFlow with the appropriate compiler flags.\n"
     ]
    }
   ],
   "source": [
    "import spacy\n",
    "\n",
    "# load english language model\n",
    "\n",
    "nlp = spacy.load('en_core_web_sm',disable=['ner','textcat'])\n",
    "\n",
    "text = \"could you move the horse from A1 to B2.\""
   ]
  },
  {
   "cell_type": "code",
   "execution_count": 2,
   "metadata": {},
   "outputs": [
    {
     "name": "stdout",
     "output_type": "stream",
     "text": [
      "could -> AUX\n",
      "AUX\n",
      "you -> PRON\n",
      "PRON\n",
      "move -> VERB\n",
      "VERB\n",
      "the -> DET\n",
      "DET\n",
      "horse -> NOUN\n",
      "NOUN\n",
      "from -> ADP\n",
      "ADP\n",
      "A1 -> PROPN\n",
      "PROPN\n",
      "to -> ADP\n",
      "ADP\n",
      "B2 -> NOUN\n",
      "NOUN\n",
      ". -> PUNCT\n",
      "PUNCT\n"
     ]
    }
   ],
   "source": [
    "# create spacy \n",
    "doc = nlp(text)\n",
    "\n",
    "for token in doc:\n",
    "    print(token.text,'->',token.pos_)\n",
    "    print(token.pos_)\n"
   ]
  },
  {
   "cell_type": "code",
   "execution_count": 3,
   "metadata": {},
   "outputs": [
    {
     "name": "stdout",
     "output_type": "stream",
     "text": [
      "horse\n",
      "A1\n",
      "B2\n"
     ]
    }
   ],
   "source": [
    "for token in doc:\n",
    "    # check token pos\n",
    "    if token.pos_=='NOUN' or token.pos_ == 'PROPN':\n",
    "        print(token.text)"
   ]
  }
 ],
 "metadata": {
  "interpreter": {
   "hash": "aee8b7b246df8f9039afb4144a1f6fd8d2ca17a180786b69acc140d282b71a49"
  },
  "kernelspec": {
   "display_name": "Python 3.10.2 64-bit",
   "language": "python",
   "name": "python3"
  },
  "language_info": {
   "codemirror_mode": {
    "name": "ipython",
    "version": 3
   },
   "file_extension": ".py",
   "mimetype": "text/x-python",
   "name": "python",
   "nbconvert_exporter": "python",
   "pygments_lexer": "ipython3",
   "version": "3.10.2"
  },
  "orig_nbformat": 4
 },
 "nbformat": 4,
 "nbformat_minor": 2
}
